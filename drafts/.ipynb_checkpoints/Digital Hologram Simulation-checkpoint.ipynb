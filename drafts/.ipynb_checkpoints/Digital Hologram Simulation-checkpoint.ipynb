{
 "cells": [
  {
   "cell_type": "markdown",
   "metadata": {},
   "source": [
    "Lately I have been working on a small side project to develop a cheap and open-source imager for hobbyist microscopy applications. To keep costs as low as possible, I decided to try a lensless approach using digital holographic methods. One advantage to this approach is that much of the complexity can be transferred from the physical setup to software in the form of the reconstruction algorithms that are necessary to read out the object information from the hologram.\n",
    "\n",
    "After a few weeks of casual searching I discovered that there are, in fact, many reconstruction algorithms for digital holography. However, there are not very many working software packages and, furthermore, I did not find many comparisons between the various algorithms. For these reasons, I decided that a good starting point for the software prototyping in the project would be the development of simulation tools for digital holgrams. By simulating holograms of known objects, I can quantitatively compare the results of different reconstruction algorithms to make more informed decisions when designing the final software for the project.\n",
    "\n",
    "In this post, I will explain how I am developing some hologram simulation routines using Python."
   ]
  },
  {
   "cell_type": "markdown",
   "metadata": {},
   "source": [
    "# Digital Inline Holography\n",
    "\n",
    "The specific type of imager that I am developing for the project is a digital inline holographic microscope. In inline holography, a light source illuminates some arbitrary sample--such as cells or a colloid--which scatters a small amount of the incident light. If the incident light is coherent, then it will interfere with the scattered light from the object and produce an intereference pattern that fills the volume of space after the sample. An image sensor is then used to record a two-dimensional sample of the interference pattern which can be numerically processed to reconstruct the original object. The use of an electronic image sensor and computational reconstructions is what makes this form of holography \"digital.\"\n",
    "\n",
    "**INSERT FIGURE HERE**\n",
    "\n",
    "## Analytical Theory\n",
    "\n",
    "# Simulation of digital holograms"
   ]
  },
  {
   "cell_type": "code",
   "execution_count": null,
   "metadata": {
    "collapsed": true
   },
   "outputs": [],
   "source": []
  }
 ],
 "metadata": {
  "anaconda-cloud": {},
  "kernelspec": {
   "display_name": "Python [conda env:poppy]",
   "language": "python",
   "name": "conda-env-poppy-py"
  },
  "language_info": {
   "codemirror_mode": {
    "name": "ipython",
    "version": 3
   },
   "file_extension": ".py",
   "mimetype": "text/x-python",
   "name": "python",
   "nbconvert_exporter": "python",
   "pygments_lexer": "ipython3",
   "version": "3.5.2"
  }
 },
 "nbformat": 4,
 "nbformat_minor": 2
}
