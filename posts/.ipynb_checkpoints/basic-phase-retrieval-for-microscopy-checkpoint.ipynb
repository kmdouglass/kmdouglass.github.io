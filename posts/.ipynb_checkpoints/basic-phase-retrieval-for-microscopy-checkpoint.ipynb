{
 "cells": [
  {
   "cell_type": "markdown",
   "metadata": {
    "collapsed": false
   },
   "source": [
    "# Why coma is bad for localization microscopy\n",
    "[In one of my recent publications](http://journals.plos.org/plosone/article?id=10.1371/journal.pone.0142949), my co-authors and I investigated an aberration that is especially pernicious for 3D localization microscopies such as [STORM and PALM](https://en.wikipedia.org/wiki/Super-resolution_microscopy#STORM.2C_PALM_and_FPALM). This aberration results in a dependence of the perceived position of a single, fluorescent molecule on its axial position within the focal plane of a microscope. To identify a possible source for this aberration, I employed a phase retrieval algorithm to obtain the pupil function of the microscope. I then decomposed the pupil function into a number of orthogonal polynomial terms and identified the specific terms that led to the aberration that we observed. In this case, terms associated with [coma](https://en.wikipedia.org/wiki/Coma_%28optics%29) were the culprits.\n",
    "\n",
    "So why exactly is coma bad for 3D localization microscopy? The answer first requires a bit of knowledge about Fourier optics."
   ]
  },
  {
   "cell_type": "markdown",
   "metadata": {
    "collapsed": true
   },
   "source": [
    "## Pupil Function Basics\n",
    "The pupil function of a microscope (and really, of any optical system) is an important tool for analyzing the aberrations present in the system. The pupil function is defined as the two dimensional Fourier transform of the image of an isotropic point source. [The two dimensional Fourier transform](http://mathworld.wolfram.com/FourierTransform.html) of a function of two variables x and y is expressed as \n",
    "\n",
    "$$F \\left( k_x, k_y \\right) = \\iint f \\left( x, y \\right) \\exp \\left[ -j \\left( k_{x}x + k_{y}y \\right) \\right] dx dy$$\n",
    "\n",
    "The inverse Fourier transform converts $F \\left( k_x, k_y \\right)$ back into $f \\left( x, y \\right)$ and is given by \n",
    "\n",
    "$$f \\left( x, y \\right) = \\iint F \\left( k_x, k_y \\right) \\exp \\left[ j \\left( k_{x}x + k_{y}y \\right) \\right] dk_x dk_y$$\n",
    "\n",
    "In this case, $x$ and $y$ are variables representing 2D coordinates in the image plane and $k_x$ and $k_y$ are the spatial frequencies. $f$ and $F$ are known as Fourier transform pairs.\n",
    "\n",
    "An isotropic point source is an idealized source of electromagnetic radiation that emits an equal intensity in all directions. Strictly speaking, real sources such as atoms and molecules are dipoles and not isotropic emitters. This assumption is however a good model for collections of many fluorescent molecules possessing dipole moments that are all pointing in different directions and that are smaller than the wavelength of light because the molecules' individual emission patterns average out.\n",
    "\n",
    "The image of a point source is known as the [point spread function (PSF)](https://en.wikipedia.org/wiki/Point_spread_function) of the microscope. In signal processing, it's known as a two dimensional impulse response.\n",
    "\n",
    "[The equation](http://www.msg.ucsf.edu/agard/Publications/148-Agard-JMicrosc-2004.pdf) that relates the image of the isotropic point source to the pupil function $P \\left( k_x, k_y \\right)$ is\n",
    "\n",
    "$$\\text{PSF}_{\\text{A}} \\left( x, y \\right) = \\iint P \\left( k_x, k_y \\right) \\exp \\left[ -j \\left( k_{x}x + k_{y}y \\right) \\right] dx dy$$\n",
    "\n",
    "The subscript `A` on the PSF stands for *amplitude* and means that we are working with the electric field. The irradiance, which is what a camera or your eye measures, is proportional to the absolute square of $\\text{PSF}_{\\text{A}}$. In words, the above equation restates my definition above: the pupil function and the amplitude PSF are Fourier transform pairs.\n",
    "\n",
    "## Simulating Diffraction Limited Pupil Functions and PSF's\n",
    "We can simulate how an aberration affects the image of a point source by simulating an aberrated pupil function and computing the Fourier transform above to get the amplitude PSF. The easiest model to simulate is based on scalar diffraction theory, which means that we ignore the fact that the electromagnetic radiation is polarized (i.e. a vector) and treat it as a scalar quantity instead. Even though this is an approximation, it still can give us a good idea about the fundamental physics involved.\n",
    "\n",
    "To perform the simulation, we must first discretize the continuous quantities in the Fourier transform. We'll model $\\text{PSF}_{\\text{A}}$ and $P \\left( k_x, k_y \\right)$ as discrete scalar quantities on 2D grids and perform a [fast Fourier transform](https://en.wikipedia.org/wiki/Fast_Fourier_transform) to turn the pupil function into the PSF."
   ]
  },
  {
   "cell_type": "code",
   "execution_count": 1,
   "metadata": {
    "collapsed": false
   },
   "outputs": [
    {
     "name": "stdout",
     "output_type": "stream",
     "text": [
      "Using matplotlib backend: TkAgg\n",
      "Populating the interactive namespace from numpy and matplotlib\n"
     ]
    }
   ],
   "source": [
    "# Load scientific Python libraries\n",
    "%pylab"
   ]
  },
  {
   "cell_type": "markdown",
   "metadata": {},
   "source": [
    "Let's start by setting up the image plane and spatial frequency grids. If we work with square images, then the primary quantity we have to choose a value for is the number of pixels. The number of pixels that we choose to simulate is a bit arbitrary, though as we'll see later, it determines the spacing of the discretized pupil function coordinates."
   ]
  },
  {
   "cell_type": "code",
   "execution_count": 4,
   "metadata": {
    "collapsed": true
   },
   "outputs": [],
   "source": [
    "imgSize = 513 # Choose an odd number to ensure rotational symmetry about the center"
   ]
  },
  {
   "cell_type": "markdown",
   "metadata": {},
   "source": [
    "The rest of the important parameters for setting up the grids are determined by your microscope."
   ]
  },
  {
   "cell_type": "code",
   "execution_count": 8,
   "metadata": {
    "collapsed": true
   },
   "outputs": [],
   "source": [
    "wavelength = 0.68 # microns\n",
    "NA         = 1.4  # Numerical aperture of the objective\n",
    "nImmersion = 1.51 # Refractive index of the immersion oil\n",
    "pixelSize  = 0.1  # microns"
   ]
  },
  {
   "cell_type": "markdown",
   "metadata": {},
   "source": [
    "Now we have enough information to define the grid on which the pupil function lies."
   ]
  },
  {
   "cell_type": "code",
   "execution_count": 10,
   "metadata": {
    "collapsed": false
   },
   "outputs": [],
   "source": [
    "kMax = 2 * pi / pixelSize       # Value of k at the maximum extent of the pupil function\n",
    "kNA  = 2 * pi * NA / wavelength\n",
    "dk   = 2 * pi / (imgSize * pixelSize)"
   ]
  },
  {
   "cell_type": "markdown",
   "metadata": {},
   "source": [
    "The pupil function of a microscope is non-zero for values of $\\left( k_x, k_y \\right)$ such that $k_x^2 + k_y^2 \\leq \\frac{2 \\pi NA}{\\lambda}$. The quantity $\\frac{2 \\pi NA}{\\lambda}$ is represented by `kNA` above. The size of a pixel in spatial frequencies is related to the maximum size of the image in pixels, or `imgSize * pixelSize`. Likewise, the size of a pixel in microns is proportional to the inverse of the maximum size of the pupil function in spatial frequencies. This is just a manifestation of the properties of Fourier transform pairs."
   ]
  },
  {
   "cell_type": "code",
   "execution_count": null,
   "metadata": {
    "collapsed": true
   },
   "outputs": [],
   "source": [
    "kx = np.arange(-kMax / 2, kMax / 2, dk)\n",
    "ky = np.arange(-kMax / 2, kMax / 2, dk)\n"
   ]
  }
 ],
 "metadata": {
  "kernelspec": {
   "display_name": "Python 3",
   "language": "python",
   "name": "python3"
  },
  "language_info": {
   "codemirror_mode": {
    "name": "ipython",
    "version": 3
   },
   "file_extension": ".py",
   "mimetype": "text/x-python",
   "name": "python",
   "nbconvert_exporter": "python",
   "pygments_lexer": "ipython3",
   "version": "3.5.0"
  }
 },
 "nbformat": 4,
 "nbformat_minor": 0
}
